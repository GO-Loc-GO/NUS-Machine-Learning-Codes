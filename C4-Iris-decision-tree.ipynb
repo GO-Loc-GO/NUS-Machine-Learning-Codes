{
 "cells": [
  {
   "cell_type": "markdown",
   "metadata": {},
   "source": [
    "### Decision Tree for Classification of Iris Flowers"
   ]
  },
  {
   "cell_type": "markdown",
   "metadata": {},
   "source": [
    "1. First, we import several dependencies such as pandas, numpy, seaborn, and also several modules in scikit-learn. We also going to read the Iris CSV file using pandas.\n",
    "<br> For more info on using pandas, see: https://www.datacamp.com/community/tutorials/pandas-read-csv\n",
    "<br> For more information on the Iris dataset, see: https://en.wikipedia.org/wiki/Iris_flower_data_set"
   ]
  },
  {
   "cell_type": "code",
   "execution_count": 1,
   "metadata": {},
   "outputs": [],
   "source": [
    "import pandas as pd\n",
    "import numpy as np\n",
    "import seaborn as sns\n",
    "import matplotlib.pyplot as plt\n",
    "from matplotlib.pyplot import figure\n",
    "\n",
    "from sklearn.model_selection import train_test_split\n",
    "from sklearn.tree import DecisionTreeClassifier\n",
    "from sklearn import tree\n",
    "import graphviz\n",
    "from sklearn import preprocessing\n",
    "\n",
    "df = pd.read_csv('Iris.csv')\n"
   ]
  },
  {
   "cell_type": "markdown",
   "metadata": {},
   "source": [
    "2. After importing the data, let’s check whether we have null values in our dataset or not. We will see there are no null/missing values."
   ]
  },
  {
   "cell_type": "code",
   "execution_count": 2,
   "metadata": {},
   "outputs": [
    {
     "data": {
      "text/plain": [
       "sepal.length    False\n",
       "sepal.width     False\n",
       "petal.length    False\n",
       "petal.width     False\n",
       "variety         False\n",
       "vnum            False\n",
       "dtype: bool"
      ]
     },
     "execution_count": 2,
     "metadata": {},
     "output_type": "execute_result"
    }
   ],
   "source": [
    "df.isnull().any()"
   ]
  },
  {
   "cell_type": "markdown",
   "metadata": {},
   "source": [
    "3. Let's understand more about the data. We will start by getting to know the type of each column values.  We see that the width and length column are represented using float64 and the name of the species uses object or string.\n",
    "\n"
   ]
  },
  {
   "cell_type": "code",
   "execution_count": 3,
   "metadata": {},
   "outputs": [
    {
     "data": {
      "text/plain": [
       "sepal.length    float64\n",
       "sepal.width     float64\n",
       "petal.length    float64\n",
       "petal.width     float64\n",
       "variety          object\n",
       "vnum              int64\n",
       "dtype: object"
      ]
     },
     "execution_count": 3,
     "metadata": {},
     "output_type": "execute_result"
    }
   ],
   "source": [
    "df.dtypes"
   ]
  },
  {
   "cell_type": "markdown",
   "metadata": {},
   "source": [
    "4. Let’s look at a quick summary of the data."
   ]
  },
  {
   "cell_type": "code",
   "execution_count": 4,
   "metadata": {},
   "outputs": [
    {
     "data": {
      "text/html": [
       "<div>\n",
       "<style scoped>\n",
       "    .dataframe tbody tr th:only-of-type {\n",
       "        vertical-align: middle;\n",
       "    }\n",
       "\n",
       "    .dataframe tbody tr th {\n",
       "        vertical-align: top;\n",
       "    }\n",
       "\n",
       "    .dataframe thead th {\n",
       "        text-align: right;\n",
       "    }\n",
       "</style>\n",
       "<table border=\"1\" class=\"dataframe\">\n",
       "  <thead>\n",
       "    <tr style=\"text-align: right;\">\n",
       "      <th></th>\n",
       "      <th>sepal.length</th>\n",
       "      <th>sepal.width</th>\n",
       "      <th>petal.length</th>\n",
       "      <th>petal.width</th>\n",
       "      <th>vnum</th>\n",
       "    </tr>\n",
       "  </thead>\n",
       "  <tbody>\n",
       "    <tr>\n",
       "      <th>count</th>\n",
       "      <td>150.000000</td>\n",
       "      <td>150.000000</td>\n",
       "      <td>150.000000</td>\n",
       "      <td>150.000000</td>\n",
       "      <td>150.000000</td>\n",
       "    </tr>\n",
       "    <tr>\n",
       "      <th>mean</th>\n",
       "      <td>5.843333</td>\n",
       "      <td>3.057333</td>\n",
       "      <td>3.758000</td>\n",
       "      <td>1.199333</td>\n",
       "      <td>1.000000</td>\n",
       "    </tr>\n",
       "    <tr>\n",
       "      <th>std</th>\n",
       "      <td>0.828066</td>\n",
       "      <td>0.435866</td>\n",
       "      <td>1.765298</td>\n",
       "      <td>0.762238</td>\n",
       "      <td>0.819232</td>\n",
       "    </tr>\n",
       "    <tr>\n",
       "      <th>min</th>\n",
       "      <td>4.300000</td>\n",
       "      <td>2.000000</td>\n",
       "      <td>1.000000</td>\n",
       "      <td>0.100000</td>\n",
       "      <td>0.000000</td>\n",
       "    </tr>\n",
       "    <tr>\n",
       "      <th>25%</th>\n",
       "      <td>5.100000</td>\n",
       "      <td>2.800000</td>\n",
       "      <td>1.600000</td>\n",
       "      <td>0.300000</td>\n",
       "      <td>0.000000</td>\n",
       "    </tr>\n",
       "    <tr>\n",
       "      <th>50%</th>\n",
       "      <td>5.800000</td>\n",
       "      <td>3.000000</td>\n",
       "      <td>4.350000</td>\n",
       "      <td>1.300000</td>\n",
       "      <td>1.000000</td>\n",
       "    </tr>\n",
       "    <tr>\n",
       "      <th>75%</th>\n",
       "      <td>6.400000</td>\n",
       "      <td>3.300000</td>\n",
       "      <td>5.100000</td>\n",
       "      <td>1.800000</td>\n",
       "      <td>2.000000</td>\n",
       "    </tr>\n",
       "    <tr>\n",
       "      <th>max</th>\n",
       "      <td>7.900000</td>\n",
       "      <td>4.400000</td>\n",
       "      <td>6.900000</td>\n",
       "      <td>2.500000</td>\n",
       "      <td>2.000000</td>\n",
       "    </tr>\n",
       "  </tbody>\n",
       "</table>\n",
       "</div>"
      ],
      "text/plain": [
       "       sepal.length  sepal.width  petal.length  petal.width        vnum\n",
       "count    150.000000   150.000000    150.000000   150.000000  150.000000\n",
       "mean       5.843333     3.057333      3.758000     1.199333    1.000000\n",
       "std        0.828066     0.435866      1.765298     0.762238    0.819232\n",
       "min        4.300000     2.000000      1.000000     0.100000    0.000000\n",
       "25%        5.100000     2.800000      1.600000     0.300000    0.000000\n",
       "50%        5.800000     3.000000      4.350000     1.300000    1.000000\n",
       "75%        6.400000     3.300000      5.100000     1.800000    2.000000\n",
       "max        7.900000     4.400000      6.900000     2.500000    2.000000"
      ]
     },
     "execution_count": 4,
     "metadata": {},
     "output_type": "execute_result"
    }
   ],
   "source": [
    "df.describe()"
   ]
  },
  {
   "cell_type": "markdown",
   "metadata": {},
   "source": [
    "5. Everything checks out. Sort of. Notice that petal.width has a minimum value of 0.1 and a maximum value of 2.5. Let’s plot the petal.width."
   ]
  },
  {
   "cell_type": "code",
   "execution_count": 5,
   "metadata": {},
   "outputs": [
    {
     "data": {
      "image/png": "[encoded data removed]",
      "text/plain": [
       "<Figure size 432x288 with 1 Axes>"
      ]
     },
     "metadata": {
      "needs_background": "light"
     },
     "output_type": "display_data"
    }
   ],
   "source": [
    "df['petal.width'].plot.hist()\n",
    "plt.show()"
   ]
  },
  {
   "cell_type": "markdown",
   "metadata": {},
   "source": [
    "6. Ok, we see that about 50 flowers in this dataset have values between 0.1 and 0.5. Let’s check the file.\n",
    "\n",
    "Everything looks ok, the \"small\" petal.width are all association with variety Setosa. This could just be their defining feature!"
   ]
  },
  {
   "cell_type": "code",
   "execution_count": 6,
   "metadata": {},
   "outputs": [
    {
     "name": "stdout",
     "output_type": "stream",
     "text": [
      "   petal.width variety\n",
      "0          0.2  Setosa\n",
      "1          0.2  Setosa\n",
      "2          0.2  Setosa\n",
      "3          0.2  Setosa\n",
      "4          0.2  Setosa\n"
     ]
    }
   ],
   "source": [
    "print(df[['petal.width','variety']].head(5))"
   ]
  },
  {
   "cell_type": "markdown",
   "metadata": {},
   "source": [
    "7. Let's load the rest of the data into variables and visualize the data."
   ]
  },
  {
   "cell_type": "code",
   "execution_count": 7,
   "metadata": {},
   "outputs": [
    {
     "data": {
      "image/png": "[encoded data removed]",
      "text/plain": [
       "<Figure size 432x288 with 1 Axes>"
      ]
     },
     "metadata": {},
     "output_type": "display_data"
    },
    {
     "data": {
      "image/png": "[encoded data removed]",
      "text/plain": [
       "<Figure size 432x288 with 1 Axes>"
      ]
     },
     "metadata": {},
     "output_type": "display_data"
    }
   ],
   "source": [
    "X = df[['sepal.length', 'sepal.width']].values\n",
    "Y = df['vnum'].values\n",
    "# Plot the training points\n",
    "#plt.subplot(1, 2, 1)\n",
    "plt.scatter(X[:, 0], X[:, 1],c=Y,cmap=plt.cm.Set1,edgecolor='k')\n",
    "plt.xlabel('Sepal length')\n",
    "plt.ylabel('Sepal width')\n",
    "plt.xticks(())\n",
    "plt.yticks(())\n",
    "plt.show()\n",
    "\n",
    "X = df[['petal.length', 'petal.width']].values\n",
    "Y = df['vnum'].values\n",
    "# Plot the training points\n",
    "#plt.subplot(1, 2, 2)\n",
    "plt.scatter(X[:, 0], X[:, 1],c=Y,cmap=plt.cm.Set1,edgecolor='k')\n",
    "plt.xlabel('Petal length')\n",
    "plt.ylabel('Petal width')\n",
    "plt.xticks(())\n",
    "plt.yticks(())\n",
    "plt.show()\n",
    "\n"
   ]
  },
  {
   "cell_type": "markdown",
   "metadata": {},
   "source": [
    "8. Let's split into training data and testing data, and run the decision tree algorithm."
   ]
  },
  {
   "cell_type": "code",
   "execution_count": 8,
   "metadata": {},
   "outputs": [
    {
     "data": {
      "text/plain": [
       "0.9466666666666667"
      ]
     },
     "execution_count": 8,
     "metadata": {},
     "output_type": "execute_result"
    }
   ],
   "source": [
    "X = df[['sepal.length', 'sepal.width', 'petal.length', 'petal.width']].values\n",
    "Y = df['variety'].values\n",
    "(X_train,X_test,Y_train,Y_test)=train_test_split(X, Y, test_size=0.5)\n",
    "\n",
    "clf = DecisionTreeClassifier()\n",
    "clf.fit(X_train, Y_train)\n",
    "clf.score(X_test, Y_test)"
   ]
  },
  {
   "cell_type": "markdown",
   "metadata": {},
   "source": [
    "9. Visualize the decision tree.  Note, you may need to run: \n",
    "<br> conda install -c anaconda graphviz \n",
    "<br> pip install graphviz"
   ]
  },
  {
   "cell_type": "code",
   "execution_count": 9,
   "metadata": {},
   "outputs": [
    {
     "data": {
      "text/plain": [
       "<_io.TextIOWrapper name='iris.pdf' mode='r' encoding='cp936'>"
      ]
     },
     "execution_count": 9,
     "metadata": {},
     "output_type": "execute_result"
    }
   ],
   "source": [
    "dot_data = tree.export_graphviz(clf, out_file=None) \n",
    "graph = graphviz.Source(dot_data) \n",
    "graph.render(\"iris\") \n",
    "open(\"iris.pdf\")"
   ]
  },
  {
   "cell_type": "code",
   "execution_count": 10,
   "metadata": {},
   "outputs": [
    {
     "name": "stdout",
     "output_type": "stream",
     "text": [
      "[[4.8 3.  1.4 0.3]\n",
      " [6.2 3.4 5.4 2.3]\n",
      " [6.3 2.9 5.6 1.8]\n",
      " [5.9 3.  5.1 1.8]\n",
      " [6.7 2.5 5.8 1.8]\n",
      " [5.2 3.5 1.5 0.2]\n",
      " [6.7 3.  5.  1.7]\n",
      " [6.  2.2 4.  1. ]\n",
      " [5.5 2.3 4.  1.3]\n",
      " [6.1 3.  4.9 1.8]\n",
      " [4.3 3.  1.1 0.1]\n",
      " [6.3 2.5 4.9 1.5]\n",
      " [5.2 4.1 1.5 0.1]\n",
      " [6.9 3.1 5.4 2.1]\n",
      " [5.7 2.9 4.2 1.3]\n",
      " [5.8 2.7 5.1 1.9]\n",
      " [7.4 2.8 6.1 1.9]\n",
      " [6.7 3.1 5.6 2.4]\n",
      " [6.1 3.  4.6 1.4]\n",
      " [6.8 2.8 4.8 1.4]\n",
      " [5.5 2.4 3.7 1. ]\n",
      " [5.  3.5 1.3 0.3]\n",
      " [6.5 3.2 5.1 2. ]\n",
      " [4.8 3.4 1.9 0.2]\n",
      " [4.8 3.4 1.6 0.2]\n",
      " [4.7 3.2 1.6 0.2]\n",
      " [6.  3.4 4.5 1.6]\n",
      " [4.4 3.  1.3 0.2]\n",
      " [6.3 2.8 5.1 1.5]\n",
      " [5.1 3.8 1.9 0.4]\n",
      " [6.2 2.8 4.8 1.8]\n",
      " [6.5 2.8 4.6 1.5]\n",
      " [6.3 2.7 4.9 1.8]\n",
      " [5.6 3.  4.5 1.5]\n",
      " [4.4 3.2 1.3 0.2]\n",
      " [5.1 3.5 1.4 0.2]\n",
      " [5.7 2.6 3.5 1. ]\n",
      " [5.1 3.8 1.6 0.2]\n",
      " [5.5 2.5 4.  1.3]\n",
      " [6.  2.7 5.1 1.6]\n",
      " [5.7 2.5 5.  2. ]\n",
      " [6.8 3.2 5.9 2.3]\n",
      " [6.3 3.3 4.7 1.6]\n",
      " [7.  3.2 4.7 1.4]\n",
      " [6.4 2.9 4.3 1.3]\n",
      " [6.4 3.2 4.5 1.5]\n",
      " [5.  3.4 1.6 0.4]\n",
      " [4.8 3.1 1.6 0.2]\n",
      " [6.3 3.3 6.  2.5]\n",
      " [5.  2.  3.5 1. ]\n",
      " [4.6 3.2 1.4 0.2]\n",
      " [5.  3.3 1.4 0.2]\n",
      " [7.7 3.8 6.7 2.2]\n",
      " [6.8 3.  5.5 2.1]\n",
      " [6.6 3.  4.4 1.4]\n",
      " [6.4 3.2 5.3 2.3]\n",
      " [5.  2.3 3.3 1. ]\n",
      " [5.6 2.7 4.2 1.3]\n",
      " [5.7 3.  4.2 1.2]\n",
      " [5.5 3.5 1.3 0.2]\n",
      " [5.6 3.  4.1 1.3]\n",
      " [6.7 3.1 4.4 1.4]\n",
      " [7.2 3.6 6.1 2.5]\n",
      " [5.1 3.5 1.4 0.3]\n",
      " [4.8 3.  1.4 0.1]\n",
      " [5.5 2.6 4.4 1.2]\n",
      " [6.3 2.3 4.4 1.3]\n",
      " [5.8 2.7 3.9 1.2]\n",
      " [5.8 2.8 5.1 2.4]\n",
      " [4.6 3.6 1.  0.2]\n",
      " [6.1 2.8 4.7 1.2]\n",
      " [5.1 3.8 1.5 0.3]\n",
      " [5.1 3.4 1.5 0.2]\n",
      " [5.4 3.7 1.5 0.2]\n",
      " [5.4 3.9 1.3 0.4]]\n"
     ]
    }
   ],
   "source": [
    "print(X_train)"
   ]
  },
  {
   "cell_type": "code",
   "execution_count": null,
   "metadata": {},
   "outputs": [],
   "source": []
  },
  {
   "cell_type": "code",
   "execution_count": null,
   "metadata": {},
   "outputs": [],
   "source": []
  }
 ],
 "metadata": {
  "kernelspec": {
   "display_name": "Python 3 (ipykernel)",
   "language": "python",
   "name": "python3"
  },
  "language_info": {
   "codemirror_mode": {
    "name": "ipython",
    "version": 3
   },
   "file_extension": ".py",
   "mimetype": "text/x-python",
   "name": "python",
   "nbconvert_exporter": "python",
   "pygments_lexer": "ipython3",
   "version": "3.8.10"
  }
 },
 "nbformat": 4,
 "nbformat_minor": 2
}
