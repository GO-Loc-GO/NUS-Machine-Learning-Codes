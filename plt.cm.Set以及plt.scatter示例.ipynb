{
 "cells": [
  {
   "cell_type": "code",
   "execution_count": 1,
   "metadata": {},
   "outputs": [
    {
     "name": "stderr",
     "output_type": "stream",
     "text": [
      "*c* argument looks like a single numeric RGB or RGBA sequence, which should be avoided as value-mapping will have precedence in case its length matches with *x* & *y*.  Please use the *color* keyword-argument or provide a 2D array with a single row if you intend to specify the same RGB or RGBA value for all points.\n",
      "*c* argument looks like a single numeric RGB or RGBA sequence, which should be avoided as value-mapping will have precedence in case its length matches with *x* & *y*.  Please use the *color* keyword-argument or provide a 2D array with a single row if you intend to specify the same RGB or RGBA value for all points.\n",
      "*c* argument looks like a single numeric RGB or RGBA sequence, which should be avoided as value-mapping will have precedence in case its length matches with *x* & *y*.  Please use the *color* keyword-argument or provide a 2D array with a single row if you intend to specify the same RGB or RGBA value for all points.\n"
     ]
    },
    {
     "name": "stdout",
     "output_type": "stream",
     "text": [
      "(0.21568627450980393, 0.49411764705882355, 0.7215686274509804, 1.0) (0.9882352941176471, 0.5529411764705883, 0.3843137254901961, 1.0) (1.0, 1.0, 0.7019607843137254, 1.0)\n"
     ]
    },
    {
     "data": {
      "image/png": "[encoded data removed]",
      "text/plain": [
       "<Figure size 432x288 with 1 Axes>"
      ]
     },
     "metadata": {
      "needs_background": "light"
     },
     "output_type": "display_data"
    }
   ],
   "source": [
    "import matplotlib.pyplot as plt\n",
    "\n",
    "#颜色可用元组表示，元组由4个元素组成，每个元素范围在[0,1]之间\n",
    "#比如(1, 0.1, 0.2, 0.3)就是一种颜色，(0.8, 0.8, 0.1, 1)是另外一种颜色\n",
    "plt.scatter(x=[1],y=[1],c=(0.8, 0.8, 0.1, 1),marker='o',s=200)    #1个点，颜色是(0.8, 0.8, 0.1, 1)，形状是圆圈\n",
    "\n",
    "#用cm.Set1，Set2，Set3返回颜色\n",
    "color1 =plt.cm.Set1(1)   #返回一种颜色,(0.21, 0.49, 0.72, 1.0)\n",
    "color2 =plt.cm.Set2(1)   #返回一种颜色\n",
    "color3 =plt.cm.Set3(1)   #返回一种颜色\n",
    "print(color1,color2,color3)\n",
    "plt.scatter(x=[2,3,4],y=[2,3,4],c=[color1,color2,color3],marker='*',s=200)    #三种不同的颜色,形状是星星\n",
    "\n",
    "#用cm.set1返回不同颜色\n",
    "for i in range(5,7):\n",
    "    color = plt.cm.Set1(i) #返回一种颜色\n",
    "    plt.scatter(i,i,c=color,marker='^',s=200) #形状是三角形\n",
    "\n",
    "plt.show()"
   ]
  },
  {
   "cell_type": "code",
   "execution_count": null,
   "metadata": {},
   "outputs": [],
   "source": []
  }
 ],
 "metadata": {
  "kernelspec": {
   "display_name": "Python 3 (ipykernel)",
   "language": "python",
   "name": "python3"
  },
  "language_info": {
   "codemirror_mode": {
    "name": "ipython",
    "version": 3
   },
   "file_extension": ".py",
   "mimetype": "text/x-python",
   "name": "python",
   "nbconvert_exporter": "python",
   "pygments_lexer": "ipython3",
   "version": "3.8.10"
  }
 },
 "nbformat": 4,
 "nbformat_minor": 4
}
