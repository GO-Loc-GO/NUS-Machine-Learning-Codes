{
 "cells": [
  {
   "cell_type": "code",
   "execution_count": 1,
   "metadata": {},
   "outputs": [
    {
     "name": "stdout",
     "output_type": "stream",
     "text": [
      "Problem 3a: y= -7.280624999999999 x+ 360.63666666666666\n",
      "Problem 3c: y= -7.887946428571428 x+ 366.30499999999995\n",
      "predicted y9 113.89071428571427 true y9 150.33 squared test error 1327.8215433673492\n"
     ]
    },
    {
     "data": {
      "image/png": "[encoded data removed]",
      "text/plain": [
       "<Figure size 432x216 with 1 Axes>"
      ]
     },
     "metadata": {
      "needs_background": "light"
     },
     "output_type": "display_data"
    }
   ],
   "source": [
    "import numpy as np\n",
    "import matplotlib.pyplot as plt\n",
    "\n",
    "\n",
    "# Mileage\n",
    "x = np.array([0, 4, 8, 12, 16, 20, 24, 28, 32])\n",
    "\n",
    "# Tire tread depth\n",
    "y = np.array([394.33, 329.50, 291.00, 255.17, 229.33, 204.83, 179.00, 163.83, 150.33])\n",
    "\n",
    "Xt = np.array([np.ones(9),x])\n",
    "X=Xt.transpose()\n",
    "Y=y.transpose()\n",
    "Z = np.matmul(Xt,X)\n",
    "Zinv=np.linalg.inv(Z)\n",
    "Z2=np.matmul(Zinv,Xt)\n",
    "Z3=np.matmul(Z2,Y)\n",
    "\n",
    "#Z3 is the pseudoinverse\n",
    "b = Z3[0]\n",
    "m = Z3[1]\n",
    "ypred=m*x+b\n",
    "\n",
    "print(\"Problem 3a: \"\"y=\",m,\"x+\",b)\n",
    "\n",
    "#take the first 8 elements\n",
    "x2 = x[0:8]\n",
    "y2 = y[0:8]\n",
    "\n",
    "Xt = np.array([np.ones(8),x2])\n",
    "X=Xt.transpose()\n",
    "Y=y2.transpose()\n",
    "Z = np.matmul(Xt,X)\n",
    "Zinv=np.linalg.inv(Z)\n",
    "Z2=np.matmul(Zinv,Xt)\n",
    "Z3=np.matmul(Z2,Y)\n",
    "b = Z3[0]\n",
    "m = Z3[1]\n",
    "ypred2=m*x2+b\n",
    "\n",
    "print(\"Problem 3c: \"\"y=\",m,\"x+\",b)\n",
    "\n",
    "y9=m*x[8]+b\n",
    "q=(y9-y[8])**2\n",
    "print(\"predicted y9\",y9,\"true y9\", y[8], \"squared test error\",q)\n",
    "\n",
    "\n",
    "\n",
    "fig, ax = plt.subplots(1, 1, figsize=(6, 3))\n",
    "ax.plot(x, y, 'bo')\n",
    "ax.plot(x, ypred, 'b')\n",
    "ax.plot(x2, ypred2, 'r')\n",
    "#ax.set_xlim(-10, 10)\n",
    "#ax.set_ylim(-100, 100)\n",
    "#ax.set_title('This is $g(x)=x^2$')\n",
    "plt.xlabel(\"x\")\n",
    "plt.ylabel(\"y\")\n",
    "plt.grid()\n",
    "\n"
   ]
  },
  {
   "cell_type": "code",
   "execution_count": null,
   "metadata": {},
   "outputs": [],
   "source": []
  }
 ],
 "metadata": {
  "kernelspec": {
   "display_name": "Python 3 (ipykernel)",
   "language": "python",
   "name": "python3"
  },
  "language_info": {
   "codemirror_mode": {
    "name": "ipython",
    "version": 3
   },
   "file_extension": ".py",
   "mimetype": "text/x-python",
   "name": "python",
   "nbconvert_exporter": "python",
   "pygments_lexer": "ipython3",
   "version": "3.8.10"
  }
 },
 "nbformat": 4,
 "nbformat_minor": 2
}
